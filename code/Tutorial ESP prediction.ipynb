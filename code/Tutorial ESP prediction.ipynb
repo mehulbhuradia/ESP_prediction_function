{
 "cells": [
  {
   "cell_type": "markdown",
   "metadata": {},
   "source": [
    "#### Dependencies:"
   ]
  },
  {
   "cell_type": "code",
   "execution_count": 1,
   "metadata": {},
   "outputs": [
    {
     "name": "stdout",
     "output_type": "stream",
     "text": [
      "Loading ESM-1b model.\n"
     ]
    },
    {
     "ename": "RuntimeError",
     "evalue": "Attempting to deserialize object on a CUDA device but torch.cuda.is_available() is False. If you are running on a CPU-only machine, please use torch.load with map_location=torch.device('cpu') to map your storages to the CPU.",
     "output_type": "error",
     "traceback": [
      "\u001b[1;31m---------------------------------------------------------------------------\u001b[0m",
      "\u001b[1;31mRuntimeError\u001b[0m                              Traceback (most recent call last)",
      "Cell \u001b[1;32mIn[1], line 1\u001b[0m\n\u001b[1;32m----> 1\u001b[0m \u001b[38;5;28;01mfrom\u001b[39;00m \u001b[38;5;21;01mES_prediction\u001b[39;00m \u001b[38;5;28;01mimport\u001b[39;00m \u001b[38;5;241m*\u001b[39m\n",
      "File \u001b[1;32md:\\Thesis\\ESP_prediction_function\\code\\ES_prediction.py:6\u001b[0m\n\u001b[0;32m      4\u001b[0m \u001b[38;5;28;01mimport\u001b[39;00m \u001b[38;5;21;01mxgboost\u001b[39;00m \u001b[38;5;28;01mas\u001b[39;00m \u001b[38;5;21;01mxgb\u001b[39;00m\n\u001b[0;32m      5\u001b[0m \u001b[38;5;28;01mfrom\u001b[39;00m \u001b[38;5;21;01mmetabolite_preprocessing\u001b[39;00m \u001b[38;5;28;01mimport\u001b[39;00m \u001b[38;5;241m*\u001b[39m\n\u001b[1;32m----> 6\u001b[0m \u001b[38;5;28;01mfrom\u001b[39;00m \u001b[38;5;21;01menzyme_representations\u001b[39;00m \u001b[38;5;28;01mimport\u001b[39;00m \u001b[38;5;241m*\u001b[39m\n\u001b[0;32m      8\u001b[0m \u001b[38;5;28;01mimport\u001b[39;00m \u001b[38;5;21;01mwarnings\u001b[39;00m\n\u001b[0;32m      9\u001b[0m warnings\u001b[38;5;241m.\u001b[39mfilterwarnings(\u001b[38;5;124m\"\u001b[39m\u001b[38;5;124mignore\u001b[39m\u001b[38;5;124m\"\u001b[39m)\n",
      "File \u001b[1;32md:\\Thesis\\ESP_prediction_function\\code\\enzyme_representations.py:11\u001b[0m\n\u001b[0;32m      8\u001b[0m \u001b[38;5;66;03m#model, alphabet = esm.pretrained.esm1b_t33_650M_UR50S()\u001b[39;00m\n\u001b[0;32m      9\u001b[0m model_location \u001b[38;5;241m=\u001b[39m join(\u001b[38;5;124m\"\u001b[39m\u001b[38;5;124m..\u001b[39m\u001b[38;5;124m\"\u001b[39m, \u001b[38;5;124m\"\u001b[39m\u001b[38;5;124mdata\u001b[39m\u001b[38;5;124m\"\u001b[39m, \u001b[38;5;124m\"\u001b[39m\u001b[38;5;124msaved_models\u001b[39m\u001b[38;5;124m\"\u001b[39m, \u001b[38;5;124m\"\u001b[39m\u001b[38;5;124mESM1b\u001b[39m\u001b[38;5;124m\"\u001b[39m, \u001b[38;5;124m\"\u001b[39m\u001b[38;5;124mesm1b_t33_650M_UR50S.pt\u001b[39m\u001b[38;5;124m\"\u001b[39m)\n\u001b[1;32m---> 11\u001b[0m model_data \u001b[38;5;241m=\u001b[39m \u001b[43mtorch\u001b[49m\u001b[38;5;241;43m.\u001b[39;49m\u001b[43mload\u001b[49m\u001b[43m(\u001b[49m\u001b[43mmodel_location\u001b[49m\u001b[43m,\u001b[49m\u001b[43m \u001b[49m\u001b[43mmap_location\u001b[49m\u001b[38;5;241;43m=\u001b[39;49m\u001b[38;5;124;43m'\u001b[39;49m\u001b[38;5;124;43mcuda\u001b[39;49m\u001b[38;5;124;43m'\u001b[39;49m\u001b[43m)\u001b[49m\n\u001b[0;32m     12\u001b[0m regression_location \u001b[38;5;241m=\u001b[39m model_location[:\u001b[38;5;241m-\u001b[39m\u001b[38;5;241m3\u001b[39m] \u001b[38;5;241m+\u001b[39m \u001b[38;5;124m\"\u001b[39m\u001b[38;5;124m-contact-regression.pt\u001b[39m\u001b[38;5;124m\"\u001b[39m\n\u001b[0;32m     14\u001b[0m regression_data \u001b[38;5;241m=\u001b[39m torch\u001b[38;5;241m.\u001b[39mload(regression_location, map_location\u001b[38;5;241m=\u001b[39m\u001b[38;5;124m'\u001b[39m\u001b[38;5;124mcuda\u001b[39m\u001b[38;5;124m'\u001b[39m)\n",
      "File \u001b[1;32mc:\\Users\\Lenovo\\miniconda3\\envs\\esp\\lib\\site-packages\\torch\\serialization.py:1040\u001b[0m, in \u001b[0;36mload\u001b[1;34m(f, map_location, pickle_module, weights_only, mmap, **pickle_load_args)\u001b[0m\n\u001b[0;32m   1038\u001b[0m     \u001b[38;5;28;01mexcept\u001b[39;00m \u001b[38;5;167;01mRuntimeError\u001b[39;00m \u001b[38;5;28;01mas\u001b[39;00m e:\n\u001b[0;32m   1039\u001b[0m         \u001b[38;5;28;01mraise\u001b[39;00m pickle\u001b[38;5;241m.\u001b[39mUnpicklingError(UNSAFE_MESSAGE \u001b[38;5;241m+\u001b[39m \u001b[38;5;28mstr\u001b[39m(e)) \u001b[38;5;28;01mfrom\u001b[39;00m \u001b[38;5;28;01mNone\u001b[39;00m\n\u001b[1;32m-> 1040\u001b[0m \u001b[38;5;28;01mreturn\u001b[39;00m \u001b[43m_legacy_load\u001b[49m\u001b[43m(\u001b[49m\u001b[43mopened_file\u001b[49m\u001b[43m,\u001b[49m\u001b[43m \u001b[49m\u001b[43mmap_location\u001b[49m\u001b[43m,\u001b[49m\u001b[43m \u001b[49m\u001b[43mpickle_module\u001b[49m\u001b[43m,\u001b[49m\u001b[43m \u001b[49m\u001b[38;5;241;43m*\u001b[39;49m\u001b[38;5;241;43m*\u001b[39;49m\u001b[43mpickle_load_args\u001b[49m\u001b[43m)\u001b[49m\n",
      "File \u001b[1;32mc:\\Users\\Lenovo\\miniconda3\\envs\\esp\\lib\\site-packages\\torch\\serialization.py:1268\u001b[0m, in \u001b[0;36m_legacy_load\u001b[1;34m(f, map_location, pickle_module, **pickle_load_args)\u001b[0m\n\u001b[0;32m   1266\u001b[0m unpickler \u001b[38;5;241m=\u001b[39m UnpicklerWrapper(f, \u001b[38;5;241m*\u001b[39m\u001b[38;5;241m*\u001b[39mpickle_load_args)\n\u001b[0;32m   1267\u001b[0m unpickler\u001b[38;5;241m.\u001b[39mpersistent_load \u001b[38;5;241m=\u001b[39m persistent_load\n\u001b[1;32m-> 1268\u001b[0m result \u001b[38;5;241m=\u001b[39m \u001b[43munpickler\u001b[49m\u001b[38;5;241;43m.\u001b[39;49m\u001b[43mload\u001b[49m\u001b[43m(\u001b[49m\u001b[43m)\u001b[49m\n\u001b[0;32m   1270\u001b[0m deserialized_storage_keys \u001b[38;5;241m=\u001b[39m pickle_module\u001b[38;5;241m.\u001b[39mload(f, \u001b[38;5;241m*\u001b[39m\u001b[38;5;241m*\u001b[39mpickle_load_args)\n\u001b[0;32m   1272\u001b[0m offset \u001b[38;5;241m=\u001b[39m f\u001b[38;5;241m.\u001b[39mtell() \u001b[38;5;28;01mif\u001b[39;00m f_should_read_directly \u001b[38;5;28;01melse\u001b[39;00m \u001b[38;5;28;01mNone\u001b[39;00m\n",
      "File \u001b[1;32mc:\\Users\\Lenovo\\miniconda3\\envs\\esp\\lib\\site-packages\\torch\\serialization.py:1205\u001b[0m, in \u001b[0;36m_legacy_load.<locals>.persistent_load\u001b[1;34m(saved_id)\u001b[0m\n\u001b[0;32m   1201\u001b[0m     obj\u001b[38;5;241m.\u001b[39m_torch_load_uninitialized \u001b[38;5;241m=\u001b[39m \u001b[38;5;28;01mTrue\u001b[39;00m\n\u001b[0;32m   1202\u001b[0m     \u001b[38;5;66;03m# TODO: Once we decide to break serialization FC, we can\u001b[39;00m\n\u001b[0;32m   1203\u001b[0m     \u001b[38;5;66;03m# stop wrapping with TypedStorage\u001b[39;00m\n\u001b[0;32m   1204\u001b[0m     typed_storage \u001b[38;5;241m=\u001b[39m torch\u001b[38;5;241m.\u001b[39mstorage\u001b[38;5;241m.\u001b[39mTypedStorage(\n\u001b[1;32m-> 1205\u001b[0m         wrap_storage\u001b[38;5;241m=\u001b[39m\u001b[43mrestore_location\u001b[49m\u001b[43m(\u001b[49m\u001b[43mobj\u001b[49m\u001b[43m,\u001b[49m\u001b[43m \u001b[49m\u001b[43mlocation\u001b[49m\u001b[43m)\u001b[49m,\n\u001b[0;32m   1206\u001b[0m         dtype\u001b[38;5;241m=\u001b[39mdtype,\n\u001b[0;32m   1207\u001b[0m         _internal\u001b[38;5;241m=\u001b[39m\u001b[38;5;28;01mTrue\u001b[39;00m)\n\u001b[0;32m   1208\u001b[0m     deserialized_objects[root_key] \u001b[38;5;241m=\u001b[39m typed_storage\n\u001b[0;32m   1209\u001b[0m \u001b[38;5;28;01melse\u001b[39;00m:\n",
      "File \u001b[1;32mc:\\Users\\Lenovo\\miniconda3\\envs\\esp\\lib\\site-packages\\torch\\serialization.py:1308\u001b[0m, in \u001b[0;36m_get_restore_location.<locals>.restore_location\u001b[1;34m(storage, location)\u001b[0m\n\u001b[0;32m   1307\u001b[0m \u001b[38;5;28;01mdef\u001b[39;00m \u001b[38;5;21mrestore_location\u001b[39m(storage, location):\n\u001b[1;32m-> 1308\u001b[0m     \u001b[38;5;28;01mreturn\u001b[39;00m \u001b[43mdefault_restore_location\u001b[49m\u001b[43m(\u001b[49m\u001b[43mstorage\u001b[49m\u001b[43m,\u001b[49m\u001b[43m \u001b[49m\u001b[43mmap_location\u001b[49m\u001b[43m)\u001b[49m\n",
      "File \u001b[1;32mc:\\Users\\Lenovo\\miniconda3\\envs\\esp\\lib\\site-packages\\torch\\serialization.py:391\u001b[0m, in \u001b[0;36mdefault_restore_location\u001b[1;34m(storage, location)\u001b[0m\n\u001b[0;32m    389\u001b[0m \u001b[38;5;28;01mdef\u001b[39;00m \u001b[38;5;21mdefault_restore_location\u001b[39m(storage, location):\n\u001b[0;32m    390\u001b[0m     \u001b[38;5;28;01mfor\u001b[39;00m _, _, fn \u001b[38;5;129;01min\u001b[39;00m _package_registry:\n\u001b[1;32m--> 391\u001b[0m         result \u001b[38;5;241m=\u001b[39m \u001b[43mfn\u001b[49m\u001b[43m(\u001b[49m\u001b[43mstorage\u001b[49m\u001b[43m,\u001b[49m\u001b[43m \u001b[49m\u001b[43mlocation\u001b[49m\u001b[43m)\u001b[49m\n\u001b[0;32m    392\u001b[0m         \u001b[38;5;28;01mif\u001b[39;00m result \u001b[38;5;129;01mis\u001b[39;00m \u001b[38;5;129;01mnot\u001b[39;00m \u001b[38;5;28;01mNone\u001b[39;00m:\n\u001b[0;32m    393\u001b[0m             \u001b[38;5;28;01mreturn\u001b[39;00m result\n",
      "File \u001b[1;32mc:\\Users\\Lenovo\\miniconda3\\envs\\esp\\lib\\site-packages\\torch\\serialization.py:266\u001b[0m, in \u001b[0;36m_cuda_deserialize\u001b[1;34m(obj, location)\u001b[0m\n\u001b[0;32m    264\u001b[0m \u001b[38;5;28;01mdef\u001b[39;00m \u001b[38;5;21m_cuda_deserialize\u001b[39m(obj, location):\n\u001b[0;32m    265\u001b[0m     \u001b[38;5;28;01mif\u001b[39;00m location\u001b[38;5;241m.\u001b[39mstartswith(\u001b[38;5;124m'\u001b[39m\u001b[38;5;124mcuda\u001b[39m\u001b[38;5;124m'\u001b[39m):\n\u001b[1;32m--> 266\u001b[0m         device \u001b[38;5;241m=\u001b[39m \u001b[43mvalidate_cuda_device\u001b[49m\u001b[43m(\u001b[49m\u001b[43mlocation\u001b[49m\u001b[43m)\u001b[49m\n\u001b[0;32m    267\u001b[0m         \u001b[38;5;28;01mif\u001b[39;00m \u001b[38;5;28mgetattr\u001b[39m(obj, \u001b[38;5;124m\"\u001b[39m\u001b[38;5;124m_torch_load_uninitialized\u001b[39m\u001b[38;5;124m\"\u001b[39m, \u001b[38;5;28;01mFalse\u001b[39;00m):\n\u001b[0;32m    268\u001b[0m             \u001b[38;5;28;01mwith\u001b[39;00m torch\u001b[38;5;241m.\u001b[39mcuda\u001b[38;5;241m.\u001b[39mdevice(device):\n",
      "File \u001b[1;32mc:\\Users\\Lenovo\\miniconda3\\envs\\esp\\lib\\site-packages\\torch\\serialization.py:250\u001b[0m, in \u001b[0;36mvalidate_cuda_device\u001b[1;34m(location)\u001b[0m\n\u001b[0;32m    247\u001b[0m device \u001b[38;5;241m=\u001b[39m torch\u001b[38;5;241m.\u001b[39mcuda\u001b[38;5;241m.\u001b[39m_utils\u001b[38;5;241m.\u001b[39m_get_device_index(location, \u001b[38;5;28;01mTrue\u001b[39;00m)\n\u001b[0;32m    249\u001b[0m \u001b[38;5;28;01mif\u001b[39;00m \u001b[38;5;129;01mnot\u001b[39;00m torch\u001b[38;5;241m.\u001b[39mcuda\u001b[38;5;241m.\u001b[39mis_available():\n\u001b[1;32m--> 250\u001b[0m     \u001b[38;5;28;01mraise\u001b[39;00m \u001b[38;5;167;01mRuntimeError\u001b[39;00m(\u001b[38;5;124m'\u001b[39m\u001b[38;5;124mAttempting to deserialize object on a CUDA \u001b[39m\u001b[38;5;124m'\u001b[39m\n\u001b[0;32m    251\u001b[0m                        \u001b[38;5;124m'\u001b[39m\u001b[38;5;124mdevice but torch.cuda.is_available() is False. \u001b[39m\u001b[38;5;124m'\u001b[39m\n\u001b[0;32m    252\u001b[0m                        \u001b[38;5;124m'\u001b[39m\u001b[38;5;124mIf you are running on a CPU-only machine, \u001b[39m\u001b[38;5;124m'\u001b[39m\n\u001b[0;32m    253\u001b[0m                        \u001b[38;5;124m'\u001b[39m\u001b[38;5;124mplease use torch.load with map_location=torch.device(\u001b[39m\u001b[38;5;130;01m\\'\u001b[39;00m\u001b[38;5;124mcpu\u001b[39m\u001b[38;5;130;01m\\'\u001b[39;00m\u001b[38;5;124m) \u001b[39m\u001b[38;5;124m'\u001b[39m\n\u001b[0;32m    254\u001b[0m                        \u001b[38;5;124m'\u001b[39m\u001b[38;5;124mto map your storages to the CPU.\u001b[39m\u001b[38;5;124m'\u001b[39m)\n\u001b[0;32m    255\u001b[0m device_count \u001b[38;5;241m=\u001b[39m torch\u001b[38;5;241m.\u001b[39mcuda\u001b[38;5;241m.\u001b[39mdevice_count()\n\u001b[0;32m    256\u001b[0m \u001b[38;5;28;01mif\u001b[39;00m device \u001b[38;5;241m>\u001b[39m\u001b[38;5;241m=\u001b[39m device_count:\n",
      "\u001b[1;31mRuntimeError\u001b[0m: Attempting to deserialize object on a CUDA device but torch.cuda.is_available() is False. If you are running on a CPU-only machine, please use torch.load with map_location=torch.device('cpu') to map your storages to the CPU."
     ]
    }
   ],
   "source": [
    "from ES_prediction import *"
   ]
  },
  {
   "cell_type": "markdown",
   "metadata": {},
   "source": [
    "Example for using the ESP prediction function. You can enter multiple enyzmes and (potential) substrates. Enzyme 1 will be paired with substrates 1, enzyme 2 will be paired with substrates 2 and so on...\n",
    "Enter enzymes as amino acid sequences and substrates/products either as SMILES strings, KEGG Compound IDs, or InChI strings. Calculations for few data poiunts usually take only a few minutes."
   ]
  },
  {
   "cell_type": "code",
   "execution_count": null,
   "metadata": {},
   "outputs": [
    {
     "name": "stdout",
     "output_type": "stream",
     "text": [
      "Step 1/3: Calculating numerical representations for all metabolites.\n",
      "Step 2/3: Calculating numerical representations for all enzymes.\n",
      ".....2(c) Calculating enzyme representations.\n",
      "Step 3/3: Making predictions for ESP.\n",
      "(4, 100) (4, 1280)\n"
     ]
    },
    {
     "data": {
      "text/html": [
       "<div>\n",
       "<style scoped>\n",
       "    .dataframe tbody tr th:only-of-type {\n",
       "        vertical-align: middle;\n",
       "    }\n",
       "\n",
       "    .dataframe tbody tr th {\n",
       "        vertical-align: top;\n",
       "    }\n",
       "\n",
       "    .dataframe thead th {\n",
       "        text-align: right;\n",
       "    }\n",
       "</style>\n",
       "<table border=\"1\" class=\"dataframe\">\n",
       "  <thead>\n",
       "    <tr style=\"text-align: right;\">\n",
       "      <th></th>\n",
       "      <th>substrate</th>\n",
       "      <th>enzyme</th>\n",
       "      <th>GNN FP</th>\n",
       "      <th>enzyme rep</th>\n",
       "      <th>complete</th>\n",
       "      <th>Prediction</th>\n",
       "    </tr>\n",
       "  </thead>\n",
       "  <tbody>\n",
       "    <tr>\n",
       "      <th>0</th>\n",
       "      <td>CC(C)=CC(=O)SCCN=C([O-])CCN=C([O-])[C@H](O)C(C...</td>\n",
       "      <td>MQNSTKTVRIVEVGPRDGLQNIPQSIDSTIKLDLIRRLRDAGLQTI...</td>\n",
       "      <td>[0.0, 32.474705, 0.0, 38.340942, 886.3074, 512...</td>\n",
       "      <td>[-0.51540333, 0.5116742, -0.40227342, 0.734665...</td>\n",
       "      <td>True</td>\n",
       "      <td>0.978898</td>\n",
       "    </tr>\n",
       "    <tr>\n",
       "      <th>1</th>\n",
       "      <td>N=C([O-])c1ccc[n+]([C@@H]2O[C@H](COP(=O)(O)OP(...</td>\n",
       "      <td>MLVDGKLVCVTGAGGYIASWIVKLLLERGYTVRGTVRNPTDPKNNH...</td>\n",
       "      <td>[0.0, 43.11695, 0.0, 0.0, 1212.3643, 537.51904...</td>\n",
       "      <td>[0.6113487, 0.12549034, 0.395589, 1.1156127, -...</td>\n",
       "      <td>True</td>\n",
       "      <td>0.926258</td>\n",
       "    </tr>\n",
       "    <tr>\n",
       "      <th>2</th>\n",
       "      <td>CC([O-])=N[C@H]1[C@@H](OP(=O)([O-])O)O[C@H](CO...</td>\n",
       "      <td>MTDYLSLHSRLAQVGQEHLLKFWPELTNDERIDLVRDIEELNLDEI...</td>\n",
       "      <td>[0.0, 0.26686558, 0.0, 42.10738, 360.79062, 11...</td>\n",
       "      <td>[0.29803187, 0.22514091, 0.27318865, -0.127907...</td>\n",
       "      <td>True</td>\n",
       "      <td>0.179046</td>\n",
       "    </tr>\n",
       "    <tr>\n",
       "      <th>3</th>\n",
       "      <td>O=S(=O)([O-])CCS</td>\n",
       "      <td>MQCSTMQQQKLAGRREAKAAAQKACAGVRVAGASARVPVSTVRQAT...</td>\n",
       "      <td>[0.0, 0.099169426, 0.0, 42.000805, 1.569544, 0...</td>\n",
       "      <td>[0.25213236, 0.09255111, -0.14020333, -0.31987...</td>\n",
       "      <td>True</td>\n",
       "      <td>0.372510</td>\n",
       "    </tr>\n",
       "  </tbody>\n",
       "</table>\n",
       "</div>"
      ],
      "text/plain": [
       "                                           substrate  \\\n",
       "0  CC(C)=CC(=O)SCCN=C([O-])CCN=C([O-])[C@H](O)C(C...   \n",
       "1  N=C([O-])c1ccc[n+]([C@@H]2O[C@H](COP(=O)(O)OP(...   \n",
       "2  CC([O-])=N[C@H]1[C@@H](OP(=O)([O-])O)O[C@H](CO...   \n",
       "3                                   O=S(=O)([O-])CCS   \n",
       "\n",
       "                                              enzyme  \\\n",
       "0  MQNSTKTVRIVEVGPRDGLQNIPQSIDSTIKLDLIRRLRDAGLQTI...   \n",
       "1  MLVDGKLVCVTGAGGYIASWIVKLLLERGYTVRGTVRNPTDPKNNH...   \n",
       "2  MTDYLSLHSRLAQVGQEHLLKFWPELTNDERIDLVRDIEELNLDEI...   \n",
       "3  MQCSTMQQQKLAGRREAKAAAQKACAGVRVAGASARVPVSTVRQAT...   \n",
       "\n",
       "                                              GNN FP  \\\n",
       "0  [0.0, 32.474705, 0.0, 38.340942, 886.3074, 512...   \n",
       "1  [0.0, 43.11695, 0.0, 0.0, 1212.3643, 537.51904...   \n",
       "2  [0.0, 0.26686558, 0.0, 42.10738, 360.79062, 11...   \n",
       "3  [0.0, 0.099169426, 0.0, 42.000805, 1.569544, 0...   \n",
       "\n",
       "                                          enzyme rep  complete  Prediction  \n",
       "0  [-0.51540333, 0.5116742, -0.40227342, 0.734665...      True    0.978898  \n",
       "1  [0.6113487, 0.12549034, 0.395589, 1.1156127, -...      True    0.926258  \n",
       "2  [0.29803187, 0.22514091, 0.27318865, -0.127907...      True    0.179046  \n",
       "3  [0.25213236, 0.09255111, -0.14020333, -0.31987...      True    0.372510  "
      ]
     },
     "execution_count": 3,
     "metadata": {},
     "output_type": "execute_result"
    }
   ],
   "source": [
    "substrates = [\"CC(C)=CC(=O)SCCN=C([O-])CCN=C([O-])[C@H](O)C(C)(C)COP(=O)(O)OP(=O)(O)OC[C@H]1O[C@@H](n2cnc3c(N)ncnc32)[C@H](O)[C@@H]1OP(=O)([O-])[O-]\",\n",
    "                \"N=C([O-])c1ccc[n+]([C@@H]2O[C@H](COP(=O)(O)OP(=O)([O-])OC[C@H]3O[C@@H](n4cnc5c(N)ncnc54)[C@H](OP(=O)([O-])[O-])[C@@H]3O)[C@@H](O)[C@H]2O)c1\",\n",
    "                \"CC([O-])=N[C@H]1[C@@H](OP(=O)([O-])O)O[C@H](CO)[C@@H](O)[C@@H]1O\",\n",
    "                \"O=S(=O)([O-])CCS\"\n",
    "                ]\n",
    "\n",
    "enzymes = [\"MQNSTKTVRIVEVGPRDGLQNIPQSIDSTIKLDLIRRLRDAGLQTIELTSFVSPRAIPQLADAQVVVQNADIQKLLKNPKLRLPVLVPNLKGLERALHNGIKEVAVFISATEGFSRANINCTVDEGLERARQVASRAASAGLSVRGYVSCIFADPYDGPTRPSSVLRCTKALLDAGCYEVSLGDTLGIGTPADVRWLITYLQDNGVPLEMLAGHFHDTYGGAVANVWEAYKCGLRMFDSSVAGLGGCPFALGAKGNVASEDLVYMFERSGIHTGVDLSKLVETGEWISRQLSIANSSRAGAALWAMRKQTAVPKSPKVSVSWKLVKQTEGLQLFRSGVNLRINLNRPKNGNALTAIMAQDLTEAVTNAGRDATISRIILTGSGKFFCTGMDLGKGSTAVGQGGSSSNAQFDRLTNLFEAIDQSPKVTIACLNGPAFGGGVGLAFACDMRFAVRAASVTLSEVKLGLCPATISKYVIREFGIALSREAMLSARPVSAGELKARGLVVELADNAEALPGLLDQFLTQLKAASPEASRMSKELIRLAWAHGGKEEQAKGIRALFDGMMRPDGDGAHGVKEFQAKRSVDWDAYTLRRVDSAKL\",\n",
    "            \"MLVDGKLVCVTGAGGYIASWIVKLLLERGYTVRGTVRNPTDPKNNHLRELQGAKERLTLHSADLLDYEALCATIDGCDGVFHTASPMTDDPETMLEPAVNGAKFVIDAAAKAKVKRVVFTSSIGAVYMNPNRDTQAIVDENCWSDLDFCKNTKNWYCYGKMLAEQSAWETAKAKGVDLVVLNPVLVLGPPLQSAINASLVHILKYLTGSAKTYANLTQVYVDVRDVALGHVLVYEAPSASGRYILAETALHRGEVVEILAKFFPEYPLPTKCSDEKNPRAKPYKFTTQKIKDLGLEFKPIKQSLYESVKSLQEKGHLPLPQDSNQNEVIIES\",\n",
    "            \"MTDYLSLHSRLAQVGQEHLLKFWPELTNDERIDLVRDIEELNLDEIKLYFDRATVSMNENGIKLDDRLQPLPEGKLISIARAPLEKLDAYRDEGLLQISNGHVAVLLMAGGQGTRLGFDHPKGMYDVGLQSRKTLFRIQAERILKLEELAQEANGKRGHITWYIMTSEHTVQPTYDYFVANNFFGLKAENVLLFEQGSLPCFEYDGRIILDEKHRVARAPDGNGGIYRAMKRQGILDDMQKRGVLYLHAHSVDNILIKVADPVFIGYCVQEKADCAAKVVEKAAPNEAVGVVAIVDGKYQVVEYSEISAKTAEMRNSDGRLTFSAGNICNHFFSSNFLQKIGSTYEQELKLHVAKKKIPFVDNAGKRLTPDKPNGIKIEKFVFDVFEFAQKFVAMEVPRDEEFSALKNSDAAGKDCPSTARSDLHRLHKKYIEGAGGIVHGEVCEISPFVTYAGENLASHVEGKSFTSPVYLRDSRDPLHGHL\",\n",
    "            \"MQCSTMQQQKLAGRREAKAAAQKACAGVRVAGASARVPVSTVRQATSSVRAASRATSVKVQATATVEKATAPAGSLSSNGAGTRVMIIGGDGYCGWATALHLSARGYEVCIVDNLCRRQFDLQLGLDTLTPIATIHDRVRRWGEVSGKHISLQIGDICDWEFLSQAFTSFKPNHVVHFGEQRSAPYSMIDRQKAVFTQHNNVIGTINVLFAIKELQPDCHMVKLGTMGEYGTPNIDIEEGYITINHNGRTDTLPYPKQGNSFYHLSKIHDSTNMLFTCKAWKIAATDLNQGVVYGVRTDETMADPLLLNRYDYDGIFGTALNRFVVQAAVGHPLTVYGKGGQTRGFLDIRDTVRCIQLAIDNPAPKGEMRVYNQFTEQFSVNQLAEIVEREGKKLGLNVEVTKVPNPRVELEEHYYNAKCTKLRDLGLQPHLLADSMIDSLLEFAVTYKDRVRHELIKPAVDWRKTGVKVNTMGAAVAR\"\n",
    "            ]\n",
    "            # last one is false\n",
    "df = ESP_predicton(substrate_list = substrates,\n",
    "               enzyme_list = enzymes)\n",
    "df"
   ]
  },
  {
   "cell_type": "code",
   "execution_count": null,
   "metadata": {},
   "outputs": [],
   "source": []
  }
 ],
 "metadata": {
  "kernelspec": {
   "display_name": "Python 3 (ipykernel)",
   "language": "python",
   "name": "python3"
  },
  "language_info": {
   "codemirror_mode": {
    "name": "ipython",
    "version": 3
   },
   "file_extension": ".py",
   "mimetype": "text/x-python",
   "name": "python",
   "nbconvert_exporter": "python",
   "pygments_lexer": "ipython3",
   "version": "3.8.19"
  }
 },
 "nbformat": 4,
 "nbformat_minor": 4
}
